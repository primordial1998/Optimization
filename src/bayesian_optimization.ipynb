{
 "cells": [
  {
   "cell_type": "code",
   "execution_count": 45,
   "metadata": {},
   "outputs": [],
   "source": [
    "\n",
    "from IPython.core.interactiveshell import InteractiveShell\n",
    "InteractiveShell.ast_node_interactivity = \"all\"\n",
    "\n",
    "import warnings\n",
    "import copy\n",
    "import requests\n",
    "from concurrent.futures import ThreadPoolExecutor\n",
    "\n",
    "from bs4 import BeautifulSoup\n",
    "\n",
    "import pandas as pd\n",
    "import numpy as np\n",
    "from scipy.interpolate import interp1d\n",
    "from scipy.stats import norm\n",
    "from pypfopt.expected_returns import ema_historical_return, capm_return\n",
    "from pypfopt.risk_models import exp_cov, fix_nonpositive_semidefinite, CovarianceShrinkage\n",
    "from pypfopt.efficient_frontier import EfficientFrontier\n",
    "from pypfopt.discrete_allocation import DiscreteAllocation\n",
    "from pypfopt import objective_functions\n",
    "from pypfopt import base_optimizer\n",
    "import optuna\n",
    "\n",
    "import matplotlib.pyplot as plt\n",
    "import matplotlib as mpl\n",
    "import seaborn as sns\n",
    "import utils as ut"
   ]
  },
  {
   "attachments": {},
   "cell_type": "markdown",
   "metadata": {},
   "source": [
    "## Global Settings"
   ]
  },
  {
   "cell_type": "code",
   "execution_count": 3,
   "metadata": {},
   "outputs": [],
   "source": [
    "seed = 1227\n",
    "rs = np.random.RandomState(seed)\n",
    "\n",
    "mpl.style.use('fivethirtyeight')\n",
    "plt.rcParams['figure.figsize'] = (12, 8)\n",
    "\n",
    "warnings.filterwarnings('ignore')\n",
    "\n",
    "horizon = 21 * 16"
   ]
  },
  {
   "attachments": {},
   "cell_type": "markdown",
   "metadata": {},
   "source": [
    "## Data"
   ]
  },
  {
   "cell_type": "code",
   "execution_count": 4,
   "metadata": {},
   "outputs": [
    {
     "data": {
      "text/plain": [
       "((1260, 30), (334, 30), (1594, 1))"
      ]
     },
     "execution_count": 4,
     "metadata": {},
     "output_type": "execute_result"
    }
   ],
   "source": [
    "in_sample_data = pd.read_parquet('../data/in_sample_data.parquet')\n",
    "out_sample_data = pd.read_parquet('../data/out_sample_data.parquet')\n",
    "nasdaq = pd.read_csv('../data/nasdaq_100.csv', index_col=0)\n",
    "\n",
    "in_sample_data.shape, out_sample_data.shape, nasdaq.shape"
   ]
  },
  {
   "attachments": {},
   "cell_type": "markdown",
   "metadata": {},
   "source": [
    "We create a dictionary of ticker-sector key value pairs for use later when we add sector constraints:"
   ]
  },
  {
   "cell_type": "code",
   "execution_count": 5,
   "metadata": {},
   "outputs": [
    {
     "data": {
      "text/plain": [
       "{'AAPL': 'Technology',\n",
       " 'AEP': 'Utilities',\n",
       " 'AMZN': 'Retail',\n",
       " 'BIIB': 'Healthcare',\n",
       " 'CMCSA': 'Telecom',\n",
       " 'CME': 'Financial Services',\n",
       " 'COST': 'Retail',\n",
       " 'CSCO': 'Technology',\n",
       " 'EA': 'Technology',\n",
       " 'EBAY': 'Retail',\n",
       " 'GOOG': 'Technology',\n",
       " 'HD': 'Retail',\n",
       " 'HON': 'Manufacturing',\n",
       " 'INTC': 'Technology',\n",
       " 'JPM': 'Financial Services',\n",
       " 'LULU': 'Retail',\n",
       " 'META': 'Technology',\n",
       " 'MSFT': 'Technology',\n",
       " 'NFLX': 'Media & Entertainment',\n",
       " 'NVDA': 'Technology',\n",
       " 'ORLY': 'Consumer Discretionary',\n",
       " 'PEP': 'Consumer Staples',\n",
       " 'PFE': 'Healthcare',\n",
       " 'QCOM': 'Technology',\n",
       " 'SBUX': 'Consumer Discretionary',\n",
       " 'TSLA': 'Consumer Discretionary',\n",
       " 'TXN': 'Technology',\n",
       " 'VRTX': 'Healthcare',\n",
       " 'WDAY': 'Technology',\n",
       " 'XEL': 'Utilities'}"
      ]
     },
     "execution_count": 5,
     "metadata": {},
     "output_type": "execute_result"
    }
   ],
   "source": [
    "# Sector mappings\n",
    "nasdaq_obj = ut.Nasdaq100(in_sample_data.columns.tolist())\n",
    "sector_mappings = {ticker: sector for ticker, sector in zip(nasdaq_obj.tickers, nasdaq_obj.get_industries())}\n",
    "sector_mappings"
   ]
  },
  {
   "cell_type": "code",
   "execution_count": 18,
   "metadata": {},
   "outputs": [
    {
     "name": "stdout",
     "output_type": "stream",
     "text": [
      "[*********************100%***********************]  30 of 30 completed\n"
     ]
    },
    {
     "data": {
      "text/plain": [
       "AAPL     152.740005\n",
       "AEP       95.879997\n",
       "AMZN     117.199997\n",
       "BIIB     197.020004\n",
       "CMCSA     31.280001\n",
       "CME      180.949997\n",
       "COST     485.489990\n",
       "CSCO      41.139999\n",
       "EA       115.529999\n",
       "EBAY      38.520000\n",
       "GOOG      99.910004\n",
       "HD       269.359985\n",
       "HON      170.860001\n",
       "INTC      27.400000\n",
       "JPM      107.750000\n",
       "LULU     300.200012\n",
       "META     137.919998\n",
       "MSFT     239.979996\n",
       "NFLX     228.630005\n",
       "NVDA     125.070000\n",
       "ORLY     694.590027\n",
       "PEP      168.240005\n",
       "PFE       44.220001\n",
       "QCOM     121.559998\n",
       "SBUX      85.970001\n",
       "TSLA     283.839996\n",
       "TXN      162.229996\n",
       "VRTX     279.929993\n",
       "WDAY     149.539993\n",
       "XEL       70.160004\n",
       "Name: 2022-09-27 00:00:00, dtype: float64"
      ]
     },
     "execution_count": 18,
     "metadata": {},
     "output_type": "execute_result"
    }
   ],
   "source": [
    "# Open prices\n",
    "open_prices = nasdaq_obj.get_prices('2022-09-27').T.iloc[:, 0]\n",
    "open_prices"
   ]
  },
  {
   "attachments": {},
   "cell_type": "markdown",
   "metadata": {},
   "source": [
    "## Objective Function \n",
    "\n",
    "The objective function will allow us to select different combinations of strategies and select the one that performs the best based on a performance metric on the out sample data (past 16 months). The metric we will optimize (maximize) is the sharpe ratio of the portfolio given the following inputs:\n",
    "\n",
    "* Optimal weights of the optimization model\n",
    "\n",
    "* Out sample expected returns\n",
    "\n",
    "* Out sample covariance matrix estimator\n",
    "\n",
    "* Risk free rate, which is interpolated from the yield curve as follows:"
   ]
  },
  {
   "cell_type": "code",
   "execution_count": 21,
   "metadata": {},
   "outputs": [],
   "source": [
    "# Child 4 indicates the row of the table corresponding to the most recent day, e.g., 2023-03-06 \n",
    "# See https://home.treasury.gov/resource-center/data-chart-center/interest-rates/TextView?type=daily_treasury_yield_curve\n",
    "selectors = [\n",
    "    '#block-hamilton-content > div > div > div.view-content > table > tbody > tr:nth-child(214) > td.bc1month.views-field.views-field-field-bc-1month',\n",
    "    '#block-hamilton-content > div > div > div.view-content > table > tbody > tr:nth-child(214) > td.bc3month.views-field.views-field-field-bc-3month',\n",
    "    '#block-hamilton-content > div > div > div.view-content > table > tbody > tr:nth-child(214) > td.views-field.views-field-field-bc-6month',\n",
    "    '#block-hamilton-content > div > div > div.view-content > table > tbody > tr:nth-child(214) > td.views-field.views-field-field-bc-1year',\n",
    "    '#block-hamilton-content > div > div > div.view-content > table > tbody > tr:nth-child(214) > td.views-field.views-field-field-bc-2year',\n",
    "    '#block-hamilton-content > div > div > div.view-content > table > tbody > tr:nth-child(214) > td.bc3month.views-field.views-field-field-bc-3year',\n",
    "    '#block-hamilton-content > div > div > div.view-content > table > tbody > tr:nth-child(214) > td.views-field.views-field-field-bc-5year',\n",
    "    '#block-hamilton-content > div > div > div.view-content > table > tbody > tr:nth-child(214) > td.views-field.views-field-field-bc-7year',\n",
    "    '#block-hamilton-content > div > div > div.view-content > table > tbody > tr:nth-child(214) > td.views-field.views-field-field-bc-10year',\n",
    "    '#block-hamilton-content > div > div > div.view-content > table > tbody > tr:nth-child(214) > td.bc20year.views-field.views-field-field-bc-20year',\n",
    "    '#block-hamilton-content > div > div > div.view-content > table > tbody > tr:nth-child(214) > td.bc30year.views-field.views-field-field-bc-30year'\n",
    "]\n",
    "\n",
    "# Function to scrape the yield curve from the treasury.gov website\n",
    "def get_yield_curve(selector: str) -> float:\n",
    "    \"\"\"\n",
    "    Parameters\n",
    "    ----------\n",
    "    selector : str\n",
    "        A CSS selector string for the yield curve data for a given maturity and date.\n",
    "\n",
    "    Returns\n",
    "    -------\n",
    "    float\n",
    "        A yield curve value for a given maturity.\n",
    "    \"\"\"\n",
    "    url = 'https://home.treasury.gov/resource-center/data-chart-center/interest-rates/TextView?type=daily_treasury_yield_curve&field_tdr_date_value=2016'\n",
    "    response = requests.get(url)\n",
    "    soup = BeautifulSoup(response.content, 'html.parser')\n",
    "    element = soup.select_one(selector)\n",
    "    \n",
    "    return float(element.text.strip()) # Remove leading and trailing whitespace and convert rate to float\n",
    "\n",
    "with ThreadPoolExecutor() as executor: # Use all available cores\n",
    "    results = list(executor.map(get_yield_curve, selectors))"
   ]
  },
  {
   "attachments": {},
   "cell_type": "markdown",
   "metadata": {},
   "source": [
    "Now, we interpolate the 16 month constant maturity rate using cubic interpolation:"
   ]
  },
  {
   "cell_type": "code",
   "execution_count": 22,
   "metadata": {},
   "outputs": [
    {
     "name": "stdout",
     "output_type": "stream",
     "text": [
      "Interpolated 16-month rate: 0.6820014420816192\n"
     ]
    }
   ],
   "source": [
    "# Rates and maturities are in the same order\n",
    "rates = np.array(results)\n",
    "maturities = np.array([1/12, 3/12, 6/12, 1, 2, 3, 5, 7, 10, 20, 30])\n",
    "\n",
    "# Create an interpolation function using cubic interpolation\n",
    "f = interp1d(maturities, rates, kind='cubic')\n",
    "\n",
    "# Interpolate the 16-month rate\n",
    "rate_16m = float(f(16/12))\n",
    "\n",
    "print(\"Interpolated 16-month rate:\", rate_16m)"
   ]
  },
  {
   "attachments": {},
   "cell_type": "markdown",
   "metadata": {},
   "source": [
    "We can plot the yield curve using cubic spline:"
   ]
  },
  {
   "cell_type": "code",
   "execution_count": 23,
   "metadata": {},
   "outputs": [
    {
     "data": {
      "image/png": "[encoded data removed]",
      "text/plain": [
       "<Figure size 1200x800 with 1 Axes>"
      ]
     },
     "metadata": {},
     "output_type": "display_data"
    }
   ],
   "source": [
    "plt.plot(maturities, rates, 'o', label='Original Yield Curve Rates') # Using 'o' (circle marker) to denote the original data points\n",
    "\n",
    "# Plot the interpolated yield curve using cubic spline\n",
    "maturities_cubic_spline = np.linspace(maturities.min(), maturities.max(), 1000)\n",
    "rates_cubic_spline = f(maturities_cubic_spline)\n",
    "plt.plot(maturities_cubic_spline , rates_cubic_spline, '-', label='Cubic Spline') # Using '-' (solid line) to denote the interpolated data points\n",
    "\n",
    "# Plot the 16-month interpolated rate\n",
    "plt.plot(16/12, rate_16m, '*', label='16-month interpolated rate', markersize=20, markerfacecolor='yellow', markeredgecolor='black')\n",
    "\n",
    "plt.title('Yield Curve Interpolation using Cubic Spline')\n",
    "plt.xlabel('Maturity (Years)')\n",
    "plt.ylabel('Rate (%)')\n",
    "plt.legend()\n",
    "\n",
    "# display the plot\n",
    "plt.show();"
   ]
  },
  {
   "attachments": {},
   "cell_type": "markdown",
   "metadata": {},
   "source": [
    "We now split the training sample into training and validation sets:"
   ]
  },
  {
   "cell_type": "code",
   "execution_count": 24,
   "metadata": {},
   "outputs": [
    {
     "data": {
      "text/plain": [
       "(Timestamp('2013-08-30 00:00:00'), Timestamp('2017-04-28 00:00:00'))"
      ]
     },
     "execution_count": 24,
     "metadata": {},
     "output_type": "execute_result"
    },
    {
     "data": {
      "text/plain": [
       "(Timestamp('2017-05-01 00:00:00'), Timestamp('2018-08-30 00:00:00'))"
      ]
     },
     "execution_count": 24,
     "metadata": {},
     "output_type": "execute_result"
    }
   ],
   "source": [
    "split_date = in_sample_data.index.max() - pd.DateOffset(months=16)\n",
    "\n",
    "in_sample_data_train = in_sample_data.loc[:split_date]\n",
    "in_sample_data_val = in_sample_data.loc[split_date:]\n",
    "\n",
    "(in_sample_data_train.index.min(), in_sample_data_train.index.max())\n",
    "(in_sample_data_val.index.min(), in_sample_data_val.index.max())"
   ]
  },
  {
   "cell_type": "code",
   "execution_count": 25,
   "metadata": {},
   "outputs": [],
   "source": [
    "def objective(trial):\n",
    "    \n",
    "    # -------------------------- Initial hyperparameters ------------------------- #\n",
    "    \n",
    "    params = {\n",
    "        'expected_return_model': trial.suggest_categorical('expected_return_model', ['capm', 'exp_weighted']),\n",
    "        'risk_model': trial.suggest_categorical('risk_model', ['exp_weighted', 'shrinkage']),\n",
    "        'reg_gamma': trial.suggest_int('reg_gamma', 2, 6)\n",
    "    }\n",
    "    \n",
    "    # ------------------------------- Returns model ------------------------------ #\n",
    "    \n",
    "    # If the expected return model is capm, then we need to specify the risk free rate\n",
    "    if params['expected_return_model'] == 'capm':\n",
    "        \n",
    "        returns_train = capm_return(\n",
    "            prices=in_sample_data_train,\n",
    "            returns_data=False,\n",
    "            risk_free_rate=rate_16m,\n",
    "            frequency=horizon,\n",
    "            compounding=False\n",
    "            \n",
    "        )\n",
    "        \n",
    "        returns_val = capm_return(\n",
    "            prices=in_sample_data_val,\n",
    "            returns_data=False,\n",
    "            risk_free_rate=rate_16m,\n",
    "            frequency=horizon,\n",
    "            compounding=False\n",
    "        )\n",
    "    else:\n",
    "        # If the expected return model is exp_weighted, then we need to specify the 'span' parameter for the exponential moving average\n",
    "        params['returns_span'] = trial.suggest_int('returns_span', 200, 700)\n",
    "        \n",
    "        returns_train = ema_historical_return(\n",
    "            prices=in_sample_data_train,\n",
    "            span=params['returns_span'],\n",
    "            returns_data=False,\n",
    "            frequency=horizon,\n",
    "            compounding=False\n",
    "        )\n",
    "        \n",
    "        returns_val = ema_historical_return(\n",
    "            prices=in_sample_data_val,\n",
    "            span=params['returns_span'],\n",
    "            returns_data=False,\n",
    "            frequency=horizon,\n",
    "            compounding=False\n",
    "        )\n",
    "\n",
    "    # -------------------------------- Risk model -------------------------------- #\n",
    "    \n",
    "    # If the risk model is shrinkage, then we need to specify the shrinkage target\n",
    "    if params['risk_model'] == 'shrinkage':\n",
    "        \n",
    "        params['shrinkage_target'] = trial.suggest_categorical('shrinkage_target', ['constant_variance', 'single_factor', 'constant_correlation'])\n",
    "        \n",
    "        shrinkage_model_train = CovarianceShrinkage(prices=in_sample_data_train, returns_data=False, frequency=horizon)\n",
    "        shrinkage_model_val = CovarianceShrinkage(prices=in_sample_data_val, returns_data=False, frequency=horizon)\n",
    "        \n",
    "        cov_train = shrinkage_model_train.ledoit_wolf(params['shrinkage_target'])\n",
    "        cov_val = shrinkage_model_val.ledoit_wolf(params['shrinkage_target'])\n",
    "        \n",
    "        # Check for positive semi-definiteness\n",
    "        cov_train = fix_nonpositive_semidefinite(cov_train)\n",
    "        cov_val = fix_nonpositive_semidefinite(cov_val)\n",
    "        \n",
    "    else: \n",
    "        # If the risk model is exp_weighted, then we need to specify the 'span' parameter for the exponential moving average\n",
    "        # This allows us to use different spans for the returns and covariance matrices\n",
    "        params['cov_span'] = trial.suggest_int('cov_span', 150, 300)\n",
    "        \n",
    "        cov_train = exp_cov(\n",
    "            prices=in_sample_data_train,\n",
    "            returns_data=False,\n",
    "            span=params['cov_span'],\n",
    "            frequency=horizon\n",
    "        )\n",
    "        \n",
    "        cov_val = exp_cov(\n",
    "            prices=in_sample_data_val,\n",
    "            returns_data=False,\n",
    "            span=params['cov_span'],\n",
    "            frequency=horizon\n",
    "        )\n",
    "        \n",
    "        # Check for positive semi-definiteness\n",
    "        cov_train = fix_nonpositive_semidefinite(cov_train)\n",
    "        cov_val = fix_nonpositive_semidefinite(cov_val)\n",
    "        \n",
    "    # ------------------------------- Optimization ------------------------------- #\n",
    "    \n",
    "    # Create the optimization model\n",
    "    markowitz_model = EfficientFrontier(\n",
    "        expected_returns=returns_train.to_numpy().flatten(),\n",
    "        cov_matrix=cov_train,\n",
    "        weight_bounds=(0, 1), # Assume fully invested portfolio\n",
    "        solver=None # Use cvxpy’s default choice of solver\n",
    "    )\n",
    "    \n",
    "    # Add sector constraints (the sector_mappings dictionary is scoped from the enclosing environment)\n",
    "    markowitz_model.add_sector_constraints(\n",
    "        sector_mapper=sector_mappings, \n",
    "        sector_lower={'Technology': 0.1}, # At least 10% of the portfolio should be invested in the Technology sector\n",
    "        sector_upper={'Technology': 0.3} # At most 20% of the portfolio should be invested in the Technology sector\n",
    "    )\n",
    "    \n",
    "    # Add the regularization term (tuning gamma i.e., the higher the value of gamma, the more non-negligible weights)\n",
    "    markowitz_model.add_objective(objective_functions.L2_reg, gamma=params['reg_gamma'])\n",
    "    \n",
    "    try:\n",
    "        optimal_weights = markowitz_model.max_sharpe(risk_free_rate=rate_16m)\n",
    "    except:\n",
    "        print('Optimization failed')\n",
    "        return np.inf\n",
    "    \n",
    "    # -------------------------------- Evaluation -------------------------------- #\n",
    "    \n",
    "    # Out of sample performance\n",
    "    negated_val_sample_sharpe = objective_functions.sharpe_ratio(\n",
    "        w=np.array(list(optimal_weights.values())), \n",
    "        expected_returns=returns_val.to_numpy().flatten(), \n",
    "        cov_matrix=cov_val,\n",
    "        risk_free_rate=rate_16m,\n",
    "        negative=True # Calculate the negative sharpe ratio, so we can minimize the optuna objective function\n",
    "    )\n",
    "    \n",
    "    print('Validation sharpe ratio: {}'.format(negated_val_sample_sharpe))\n",
    "    \n",
    "    return negated_val_sample_sharpe"
   ]
  },
  {
   "cell_type": "code",
   "execution_count": 38,
   "metadata": {},
   "outputs": [
    {
     "name": "stderr",
     "output_type": "stream",
     "text": [
      "\u001b[32m[I 2023-03-09 01:23:51,326]\u001b[0m A new study created in memory with name: min_neg_sharpe\u001b[0m\n",
      "\u001b[32m[I 2023-03-09 01:23:51,659]\u001b[0m Trial 3 finished with value: inf and parameters: {'expected_return_model': 'capm', 'risk_model': 'shrinkage', 'reg_gamma': 5, 'shrinkage_target': 'single_factor'}. Best is trial 3 with value: inf.\u001b[0m\n"
     ]
    },
    {
     "name": "stdout",
     "output_type": "stream",
     "text": [
      "Optimization failed\n"
     ]
    },
    {
     "name": "stderr",
     "output_type": "stream",
     "text": [
      "\u001b[32m[I 2023-03-09 01:23:52,855]\u001b[0m Trial 5 finished with value: 0.4239168031856432 and parameters: {'expected_return_model': 'exp_weighted', 'risk_model': 'shrinkage', 'reg_gamma': 6, 'returns_span': 334, 'shrinkage_target': 'constant_variance'}. Best is trial 5 with value: 0.4239168031856432.\u001b[0m\n",
      "\u001b[32m[I 2023-03-09 01:23:52,916]\u001b[0m Trial 4 finished with value: 0.6258038001092973 and parameters: {'expected_return_model': 'exp_weighted', 'risk_model': 'shrinkage', 'reg_gamma': 3, 'returns_span': 265, 'shrinkage_target': 'constant_variance'}. Best is trial 5 with value: 0.4239168031856432.\u001b[0m\n"
     ]
    },
    {
     "name": "stdout",
     "output_type": "stream",
     "text": [
      "Validation sharpe ratio: 0.4239168031856432\n",
      "Validation sharpe ratio: 0.6258038001092973\n"
     ]
    },
    {
     "name": "stderr",
     "output_type": "stream",
     "text": [
      "\u001b[32m[I 2023-03-09 01:23:54,157]\u001b[0m Trial 6 finished with value: inf and parameters: {'expected_return_model': 'capm', 'risk_model': 'exp_weighted', 'reg_gamma': 2, 'cov_span': 296}. Best is trial 5 with value: 0.4239168031856432.\u001b[0m\n"
     ]
    },
    {
     "name": "stdout",
     "output_type": "stream",
     "text": [
      "Optimization failed\n",
      "Optimization failed\n"
     ]
    },
    {
     "name": "stderr",
     "output_type": "stream",
     "text": [
      "\u001b[32m[I 2023-03-09 01:23:54,322]\u001b[0m Trial 1 finished with value: inf and parameters: {'expected_return_model': 'capm', 'risk_model': 'exp_weighted', 'reg_gamma': 4, 'cov_span': 280}. Best is trial 5 with value: 0.4239168031856432.\u001b[0m\n",
      "\u001b[32m[I 2023-03-09 01:23:54,541]\u001b[0m Trial 0 finished with value: inf and parameters: {'expected_return_model': 'capm', 'risk_model': 'exp_weighted', 'reg_gamma': 3, 'cov_span': 184}. Best is trial 5 with value: 0.4239168031856432.\u001b[0m\n",
      "\u001b[32m[I 2023-03-09 01:23:54,570]\u001b[0m Trial 7 finished with value: inf and parameters: {'expected_return_model': 'capm', 'risk_model': 'exp_weighted', 'reg_gamma': 4, 'cov_span': 213}. Best is trial 5 with value: 0.4239168031856432.\u001b[0m\n"
     ]
    },
    {
     "name": "stdout",
     "output_type": "stream",
     "text": [
      "Optimization failed\n",
      "Optimization failed\n"
     ]
    },
    {
     "name": "stderr",
     "output_type": "stream",
     "text": [
      "\u001b[32m[I 2023-03-09 01:23:55,010]\u001b[0m Trial 11 finished with value: inf and parameters: {'expected_return_model': 'capm', 'risk_model': 'shrinkage', 'reg_gamma': 2, 'shrinkage_target': 'constant_variance'}. Best is trial 5 with value: 0.4239168031856432.\u001b[0m\n",
      "\u001b[32m[I 2023-03-09 01:23:55,110]\u001b[0m Trial 12 finished with value: inf and parameters: {'expected_return_model': 'capm', 'risk_model': 'shrinkage', 'reg_gamma': 6, 'shrinkage_target': 'single_factor'}. Best is trial 5 with value: 0.4239168031856432.\u001b[0m\n"
     ]
    },
    {
     "name": "stdout",
     "output_type": "stream",
     "text": [
      "Optimization failed\n",
      "Optimization failed\n"
     ]
    },
    {
     "name": "stderr",
     "output_type": "stream",
     "text": [
      "\u001b[32m[I 2023-03-09 01:23:55,302]\u001b[0m Trial 9 finished with value: -0.714955374063303 and parameters: {'expected_return_model': 'exp_weighted', 'risk_model': 'shrinkage', 'reg_gamma': 2, 'returns_span': 648, 'shrinkage_target': 'constant_variance'}. Best is trial 9 with value: -0.714955374063303.\u001b[0m\n"
     ]
    },
    {
     "name": "stdout",
     "output_type": "stream",
     "text": [
      "Validation sharpe ratio: -0.714955374063303\n"
     ]
    },
    {
     "name": "stderr",
     "output_type": "stream",
     "text": [
      "\u001b[32m[I 2023-03-09 01:23:55,600]\u001b[0m Trial 8 finished with value: inf and parameters: {'expected_return_model': 'capm', 'risk_model': 'exp_weighted', 'reg_gamma': 6, 'cov_span': 276}. Best is trial 9 with value: -0.714955374063303.\u001b[0m\n",
      "\u001b[32m[I 2023-03-09 01:23:55,660]\u001b[0m Trial 15 finished with value: inf and parameters: {'expected_return_model': 'capm', 'risk_model': 'shrinkage', 'reg_gamma': 4, 'shrinkage_target': 'constant_variance'}. Best is trial 9 with value: -0.714955374063303.\u001b[0m\n",
      "\u001b[32m[I 2023-03-09 01:23:55,747]\u001b[0m Trial 16 finished with value: inf and parameters: {'expected_return_model': 'capm', 'risk_model': 'shrinkage', 'reg_gamma': 2, 'shrinkage_target': 'constant_correlation'}. Best is trial 9 with value: -0.714955374063303.\u001b[0m\n"
     ]
    },
    {
     "name": "stdout",
     "output_type": "stream",
     "text": [
      "Optimization failed\n",
      "Optimization failed\n",
      "Optimization failed\n"
     ]
    },
    {
     "name": "stderr",
     "output_type": "stream",
     "text": [
      "\u001b[32m[I 2023-03-09 01:23:56,150]\u001b[0m Trial 2 finished with value: -0.19106999380242393 and parameters: {'expected_return_model': 'exp_weighted', 'risk_model': 'exp_weighted', 'reg_gamma': 3, 'returns_span': 468, 'cov_span': 198}. Best is trial 9 with value: -0.714955374063303.\u001b[0m\n"
     ]
    },
    {
     "name": "stdout",
     "output_type": "stream",
     "text": [
      "Validation sharpe ratio: -0.19106999380242393\n"
     ]
    },
    {
     "name": "stderr",
     "output_type": "stream",
     "text": [
      "\u001b[32m[I 2023-03-09 01:23:56,638]\u001b[0m Trial 17 finished with value: -0.7229887762597594 and parameters: {'expected_return_model': 'exp_weighted', 'risk_model': 'shrinkage', 'reg_gamma': 3, 'returns_span': 690, 'shrinkage_target': 'constant_variance'}. Best is trial 17 with value: -0.7229887762597594.\u001b[0m\n"
     ]
    },
    {
     "name": "stdout",
     "output_type": "stream",
     "text": [
      "Validation sharpe ratio: -0.7229887762597594\n"
     ]
    },
    {
     "name": "stderr",
     "output_type": "stream",
     "text": [
      "\u001b[32m[I 2023-03-09 01:23:57,071]\u001b[0m Trial 18 finished with value: -0.7206183726109568 and parameters: {'expected_return_model': 'exp_weighted', 'risk_model': 'shrinkage', 'reg_gamma': 5, 'returns_span': 677, 'shrinkage_target': 'constant_variance'}. Best is trial 17 with value: -0.7229887762597594.\u001b[0m\n"
     ]
    },
    {
     "name": "stdout",
     "output_type": "stream",
     "text": [
      "Validation sharpe ratio: -0.7206183726109568\n"
     ]
    },
    {
     "name": "stderr",
     "output_type": "stream",
     "text": [
      "\u001b[32m[I 2023-03-09 01:23:57,458]\u001b[0m Trial 19 finished with value: -0.7173645753786698 and parameters: {'expected_return_model': 'exp_weighted', 'risk_model': 'shrinkage', 'reg_gamma': 5, 'returns_span': 660, 'shrinkage_target': 'constant_variance'}. Best is trial 17 with value: -0.7229887762597594.\u001b[0m\n",
      "\u001b[32m[I 2023-03-09 01:23:57,464]\u001b[0m Trial 13 finished with value: inf and parameters: {'expected_return_model': 'capm', 'risk_model': 'exp_weighted', 'reg_gamma': 6, 'cov_span': 291}. Best is trial 17 with value: -0.7229887762597594.\u001b[0m\n"
     ]
    },
    {
     "name": "stdout",
     "output_type": "stream",
     "text": [
      "Validation sharpe ratio: -0.7173645753786698\n",
      "Optimization failed\n",
      "Optimization failed\n"
     ]
    },
    {
     "name": "stderr",
     "output_type": "stream",
     "text": [
      "\u001b[32m[I 2023-03-09 01:23:57,660]\u001b[0m Trial 14 finished with value: inf and parameters: {'expected_return_model': 'capm', 'risk_model': 'exp_weighted', 'reg_gamma': 3, 'cov_span': 219}. Best is trial 17 with value: -0.7229887762597594.\u001b[0m\n",
      "\u001b[32m[I 2023-03-09 01:23:57,806]\u001b[0m Trial 20 finished with value: -0.7141305021370434 and parameters: {'expected_return_model': 'exp_weighted', 'risk_model': 'shrinkage', 'reg_gamma': 5, 'returns_span': 644, 'shrinkage_target': 'constant_variance'}. Best is trial 17 with value: -0.7229887762597594.\u001b[0m\n",
      "\u001b[32m[I 2023-03-09 01:23:57,963]\u001b[0m Trial 10 finished with value: 0.4102946147688405 and parameters: {'expected_return_model': 'exp_weighted', 'risk_model': 'exp_weighted', 'reg_gamma': 4, 'returns_span': 331, 'cov_span': 277}. Best is trial 17 with value: -0.7229887762597594.\u001b[0m\n"
     ]
    },
    {
     "name": "stdout",
     "output_type": "stream",
     "text": [
      "Validation sharpe ratio: -0.7141305021370434\n",
      "Validation sharpe ratio: 0.4102946147688405\n"
     ]
    },
    {
     "name": "stderr",
     "output_type": "stream",
     "text": [
      "\u001b[32m[I 2023-03-09 01:23:58,357]\u001b[0m Trial 22 finished with value: -0.7222698545369333 and parameters: {'expected_return_model': 'exp_weighted', 'risk_model': 'shrinkage', 'reg_gamma': 3, 'returns_span': 686, 'shrinkage_target': 'constant_variance'}. Best is trial 17 with value: -0.7229887762597594.\u001b[0m\n",
      "\u001b[32m[I 2023-03-09 01:23:58,386]\u001b[0m Trial 23 finished with value: -0.7137582891994491 and parameters: {'expected_return_model': 'exp_weighted', 'risk_model': 'shrinkage', 'reg_gamma': 5, 'returns_span': 685, 'shrinkage_target': 'constant_correlation'}. Best is trial 17 with value: -0.7229887762597594.\u001b[0m\n",
      "\u001b[32m[I 2023-03-09 01:23:58,415]\u001b[0m Trial 24 finished with value: -0.7156972432344686 and parameters: {'expected_return_model': 'exp_weighted', 'risk_model': 'shrinkage', 'reg_gamma': 5, 'returns_span': 696, 'shrinkage_target': 'constant_correlation'}. Best is trial 17 with value: -0.7229887762597594.\u001b[0m\n",
      "\u001b[32m[I 2023-03-09 01:23:58,490]\u001b[0m Trial 25 finished with value: -0.713036265657346 and parameters: {'expected_return_model': 'exp_weighted', 'risk_model': 'shrinkage', 'reg_gamma': 5, 'returns_span': 681, 'shrinkage_target': 'constant_correlation'}. Best is trial 17 with value: -0.7229887762597594.\u001b[0m\n",
      "\u001b[32m[I 2023-03-09 01:23:58,545]\u001b[0m Trial 26 finished with value: -0.7162145106444076 and parameters: {'expected_return_model': 'exp_weighted', 'risk_model': 'shrinkage', 'reg_gamma': 5, 'returns_span': 699, 'shrinkage_target': 'constant_correlation'}. Best is trial 17 with value: -0.7229887762597594.\u001b[0m\n"
     ]
    },
    {
     "name": "stdout",
     "output_type": "stream",
     "text": [
      "Validation sharpe ratio: -0.7222698545369333\n",
      "Validation sharpe ratio: -0.7137582891994491\n",
      "Validation sharpe ratio: -0.7156972432344686\n",
      "Validation sharpe ratio: -0.713036265657346\n",
      "Validation sharpe ratio: -0.7162145106444076\n"
     ]
    },
    {
     "name": "stderr",
     "output_type": "stream",
     "text": [
      "\u001b[32m[I 2023-03-09 01:23:58,600]\u001b[0m Trial 27 finished with value: -0.38683011785744237 and parameters: {'expected_return_model': 'exp_weighted', 'risk_model': 'shrinkage', 'reg_gamma': 5, 'returns_span': 499, 'shrinkage_target': 'constant_correlation'}. Best is trial 17 with value: -0.7229887762597594.\u001b[0m\n",
      "\u001b[32m[I 2023-03-09 01:23:58,607]\u001b[0m Trial 28 finished with value: -0.7242252575239364 and parameters: {'expected_return_model': 'exp_weighted', 'risk_model': 'shrinkage', 'reg_gamma': 5, 'returns_span': 697, 'shrinkage_target': 'constant_variance'}. Best is trial 28 with value: -0.7242252575239364.\u001b[0m\n",
      "\u001b[32m[I 2023-03-09 01:23:58,721]\u001b[0m Trial 21 finished with value: -0.7054472616882779 and parameters: {'expected_return_model': 'exp_weighted', 'risk_model': 'exp_weighted', 'reg_gamma': 3, 'returns_span': 690, 'cov_span': 154}. Best is trial 28 with value: -0.7242252575239364.\u001b[0m\n",
      "\u001b[32m[I 2023-03-09 01:23:58,744]\u001b[0m Trial 29 finished with value: -0.724746930181322 and parameters: {'expected_return_model': 'exp_weighted', 'risk_model': 'shrinkage', 'reg_gamma': 3, 'returns_span': 700, 'shrinkage_target': 'constant_variance'}. Best is trial 29 with value: -0.724746930181322.\u001b[0m\n",
      "\u001b[32m[I 2023-03-09 01:23:58,789]\u001b[0m Trial 30 finished with value: -0.6918062947281433 and parameters: {'expected_return_model': 'exp_weighted', 'risk_model': 'shrinkage', 'reg_gamma': 3, 'returns_span': 553, 'shrinkage_target': 'constant_variance'}. Best is trial 29 with value: -0.724746930181322.\u001b[0m\n"
     ]
    },
    {
     "name": "stdout",
     "output_type": "stream",
     "text": [
      "Validation sharpe ratio: -0.38683011785744237\n",
      "Validation sharpe ratio: -0.7242252575239364\n",
      "Validation sharpe ratio: -0.7054472616882779\n",
      "Validation sharpe ratio: -0.724746930181322\n",
      "Validation sharpe ratio: -0.6918062947281433\n"
     ]
    },
    {
     "name": "stderr",
     "output_type": "stream",
     "text": [
      "\u001b[32m[I 2023-03-09 01:23:58,871]\u001b[0m Trial 31 finished with value: -0.6897502039370408 and parameters: {'expected_return_model': 'exp_weighted', 'risk_model': 'shrinkage', 'reg_gamma': 3, 'returns_span': 546, 'shrinkage_target': 'constant_variance'}. Best is trial 29 with value: -0.724746930181322.\u001b[0m\n",
      "\u001b[32m[I 2023-03-09 01:23:58,888]\u001b[0m Trial 32 finished with value: -0.6891521171397538 and parameters: {'expected_return_model': 'exp_weighted', 'risk_model': 'shrinkage', 'reg_gamma': 3, 'returns_span': 544, 'shrinkage_target': 'constant_variance'}. Best is trial 29 with value: -0.724746930181322.\u001b[0m\n",
      "\u001b[32m[I 2023-03-09 01:23:58,927]\u001b[0m Trial 33 finished with value: -0.6906384054740896 and parameters: {'expected_return_model': 'exp_weighted', 'risk_model': 'shrinkage', 'reg_gamma': 3, 'returns_span': 549, 'shrinkage_target': 'constant_variance'}. Best is trial 29 with value: -0.724746930181322.\u001b[0m\n",
      "\u001b[32m[I 2023-03-09 01:23:58,963]\u001b[0m Trial 35 finished with value: -0.6973789599164816 and parameters: {'expected_return_model': 'exp_weighted', 'risk_model': 'shrinkage', 'reg_gamma': 3, 'returns_span': 573, 'shrinkage_target': 'constant_variance'}. Best is trial 29 with value: -0.724746930181322.\u001b[0m\n"
     ]
    },
    {
     "name": "stdout",
     "output_type": "stream",
     "text": [
      "Validation sharpe ratio: -0.6897502039370408\n",
      "Validation sharpe ratio: -0.6891521171397538\n",
      "Validation sharpe ratio: -0.6906384054740896\n",
      "Validation sharpe ratio: -0.6973789599164816\n"
     ]
    },
    {
     "name": "stderr",
     "output_type": "stream",
     "text": [
      "\u001b[32m[I 2023-03-09 01:23:59,079]\u001b[0m Trial 34 finished with value: -0.7002664370816016 and parameters: {'expected_return_model': 'exp_weighted', 'risk_model': 'shrinkage', 'reg_gamma': 3, 'returns_span': 584, 'shrinkage_target': 'constant_variance'}. Best is trial 29 with value: -0.724746930181322.\u001b[0m\n",
      "\u001b[32m[I 2023-03-09 01:23:59,122]\u001b[0m Trial 36 finished with value: -0.6979129439204177 and parameters: {'expected_return_model': 'exp_weighted', 'risk_model': 'shrinkage', 'reg_gamma': 4, 'returns_span': 575, 'shrinkage_target': 'constant_variance'}. Best is trial 29 with value: -0.724746930181322.\u001b[0m\n",
      "\u001b[32m[I 2023-03-09 01:23:59,176]\u001b[0m Trial 37 finished with value: -0.6952016471611374 and parameters: {'expected_return_model': 'exp_weighted', 'risk_model': 'shrinkage', 'reg_gamma': 4, 'returns_span': 565, 'shrinkage_target': 'constant_variance'}. Best is trial 29 with value: -0.724746930181322.\u001b[0m\n",
      "\u001b[32m[I 2023-03-09 01:23:59,257]\u001b[0m Trial 38 finished with value: -0.7002664370815974 and parameters: {'expected_return_model': 'exp_weighted', 'risk_model': 'shrinkage', 'reg_gamma': 4, 'returns_span': 584, 'shrinkage_target': 'constant_variance'}. Best is trial 29 with value: -0.724746930181322.\u001b[0m\n"
     ]
    },
    {
     "name": "stdout",
     "output_type": "stream",
     "text": [
      "Validation sharpe ratio: -0.7002664370816016\n",
      "Validation sharpe ratio: -0.6979129439204177\n",
      "Validation sharpe ratio: -0.6952016471611374\n",
      "Validation sharpe ratio: -0.7002664370815974\n"
     ]
    },
    {
     "name": "stderr",
     "output_type": "stream",
     "text": [
      "\u001b[32m[I 2023-03-09 01:23:59,307]\u001b[0m Trial 39 finished with value: -0.690614919201189 and parameters: {'expected_return_model': 'exp_weighted', 'risk_model': 'shrinkage', 'reg_gamma': 4, 'returns_span': 597, 'shrinkage_target': 'single_factor'}. Best is trial 29 with value: -0.724746930181322.\u001b[0m\n",
      "\u001b[32m[I 2023-03-09 01:23:59,342]\u001b[0m Trial 40 finished with value: -0.6929767933398239 and parameters: {'expected_return_model': 'exp_weighted', 'risk_model': 'shrinkage', 'reg_gamma': 4, 'returns_span': 607, 'shrinkage_target': 'single_factor'}. Best is trial 29 with value: -0.724746930181322.\u001b[0m\n",
      "\u001b[32m[I 2023-03-09 01:23:59,421]\u001b[0m Trial 41 finished with value: -0.6915699798789693 and parameters: {'expected_return_model': 'exp_weighted', 'risk_model': 'shrinkage', 'reg_gamma': 4, 'returns_span': 601, 'shrinkage_target': 'single_factor'}. Best is trial 29 with value: -0.724746930181322.\u001b[0m\n",
      "\u001b[32m[I 2023-03-09 01:23:59,487]\u001b[0m Trial 42 finished with value: -0.6943535331775782 and parameters: {'expected_return_model': 'exp_weighted', 'risk_model': 'shrinkage', 'reg_gamma': 4, 'returns_span': 613, 'shrinkage_target': 'single_factor'}. Best is trial 29 with value: -0.724746930181322.\u001b[0m\n",
      "\u001b[32m[I 2023-03-09 01:23:59,507]\u001b[0m Trial 43 finished with value: -0.6972376853964736 and parameters: {'expected_return_model': 'exp_weighted', 'risk_model': 'shrinkage', 'reg_gamma': 4, 'returns_span': 626, 'shrinkage_target': 'single_factor'}. Best is trial 29 with value: -0.724746930181322.\u001b[0m\n"
     ]
    },
    {
     "name": "stdout",
     "output_type": "stream",
     "text": [
      "Validation sharpe ratio: -0.690614919201189\n",
      "Validation sharpe ratio: -0.6929767933398239\n",
      "Validation sharpe ratio: -0.6915699798789693\n",
      "Validation sharpe ratio: -0.6943535331775782\n",
      "Validation sharpe ratio: -0.6972376853964736\n"
     ]
    },
    {
     "name": "stderr",
     "output_type": "stream",
     "text": [
      "\u001b[32m[I 2023-03-09 01:23:59,530]\u001b[0m Trial 44 finished with value: -0.6970204794955857 and parameters: {'expected_return_model': 'exp_weighted', 'risk_model': 'shrinkage', 'reg_gamma': 4, 'returns_span': 625, 'shrinkage_target': 'single_factor'}. Best is trial 29 with value: -0.724746930181322.\u001b[0m\n",
      "\u001b[32m[I 2023-03-09 01:23:59,548]\u001b[0m Trial 45 finished with value: -0.698525160598124 and parameters: {'expected_return_model': 'exp_weighted', 'risk_model': 'shrinkage', 'reg_gamma': 4, 'returns_span': 632, 'shrinkage_target': 'single_factor'}. Best is trial 29 with value: -0.724746930181322.\u001b[0m\n",
      "\u001b[32m[I 2023-03-09 01:23:59,576]\u001b[0m Trial 46 finished with value: -0.7064061041626952 and parameters: {'expected_return_model': 'exp_weighted', 'risk_model': 'shrinkage', 'reg_gamma': 2, 'returns_span': 609, 'shrinkage_target': 'constant_variance'}. Best is trial 29 with value: -0.724746930181322.\u001b[0m\n",
      "\u001b[32m[I 2023-03-09 01:23:59,597]\u001b[0m Trial 47 finished with value: -0.708256177112182 and parameters: {'expected_return_model': 'exp_weighted', 'risk_model': 'shrinkage', 'reg_gamma': 2, 'returns_span': 617, 'shrinkage_target': 'constant_variance'}. Best is trial 29 with value: -0.724746930181322.\u001b[0m\n",
      "\u001b[32m[I 2023-03-09 01:23:59,609]\u001b[0m Trial 48 finished with value: -0.7153636544527984 and parameters: {'expected_return_model': 'exp_weighted', 'risk_model': 'shrinkage', 'reg_gamma': 2, 'returns_span': 650, 'shrinkage_target': 'constant_variance'}. Best is trial 29 with value: -0.724746930181322.\u001b[0m\n",
      "\u001b[32m[I 2023-03-09 01:23:59,615]\u001b[0m Trial 49 finished with value: -0.712233000659814 and parameters: {'expected_return_model': 'exp_weighted', 'risk_model': 'shrinkage', 'reg_gamma': 2, 'returns_span': 635, 'shrinkage_target': 'constant_variance'}. Best is trial 29 with value: -0.724746930181322.\u001b[0m\n"
     ]
    },
    {
     "name": "stdout",
     "output_type": "stream",
     "text": [
      "Validation sharpe ratio: -0.6970204794955857\n",
      "Validation sharpe ratio: -0.698525160598124\n",
      "Validation sharpe ratio: -0.7064061041626952\n",
      "Validation sharpe ratio: -0.708256177112182\n",
      "Validation sharpe ratio: -0.7153636544527984\n",
      "Validation sharpe ratio: -0.712233000659814\n"
     ]
    }
   ],
   "source": [
    "# Create the study object\n",
    "study = optuna.create_study(\n",
    "    sampler=optuna.samplers.TPESampler(), \n",
    "    study_name='min_neg_sharpe', \n",
    "    direction='minimize', \n",
    "    pruner=optuna.pruners.HyperbandPruner() # Prune unpromising trials\n",
    ")\n",
    "study.optimize(objective, n_trials=50, n_jobs=-1)"
   ]
  },
  {
   "cell_type": "code",
   "execution_count": 39,
   "metadata": {},
   "outputs": [
    {
     "data": {
      "application/vnd.plotly.v1+json": {
       "config": {
        "plotlyServerURL": "https://plot.ly"
       },
       "data": [
        {
         "mode": "markers",
         "name": "Objective Value",
         "type": "scatter",
         "x": [
          0,
          1,
          2,
          3,
          4,
          5,
          6,
          7,
          8,
          9,
          10,
          11,
          12,
          13,
          14,
          15,
          16,
          17,
          18,
          19,
          20,
          21,
          22,
          23,
          24,
          25,
          26,
          27,
          28,
          29,
          30,
          31,
          32,
          33,
          34,
          35,
          36,
          37,
          38,
          39,
          40,
          41,
          42,
          43,
          44,
          45,
          46,
          47,
          48,
          49
         ],
         "y": [
          null,
          null,
          -0.19106999380242393,
          null,
          0.6258038001092973,
          0.4239168031856432,
          null,
          null,
          null,
          -0.714955374063303,
          0.4102946147688405,
          null,
          null,
          null,
          null,
          null,
          null,
          -0.7229887762597594,
          -0.7206183726109568,
          -0.7173645753786698,
          -0.7141305021370434,
          -0.7054472616882779,
          -0.7222698545369333,
          -0.7137582891994491,
          -0.7156972432344686,
          -0.713036265657346,
          -0.7162145106444076,
          -0.38683011785744237,
          -0.7242252575239364,
          -0.724746930181322,
          -0.6918062947281433,
          -0.6897502039370408,
          -0.6891521171397538,
          -0.6906384054740896,
          -0.7002664370816016,
          -0.6973789599164816,
          -0.6979129439204177,
          -0.6952016471611374,
          -0.7002664370815974,
          -0.690614919201189,
          -0.6929767933398239,
          -0.6915699798789693,
          -0.6943535331775782,
          -0.6972376853964736,
          -0.6970204794955857,
          -0.698525160598124,
          -0.7064061041626952,
          -0.708256177112182,
          -0.7153636544527984,
          -0.712233000659814
         ]
        },
        {
         "name": "Best Value",
         "type": "scatter",
         "x": [
          0,
          1,
          2,
          3,
          4,
          5,
          6,
          7,
          8,
          9,
          10,
          11,
          12,
          13,
          14,
          15,
          16,
          17,
          18,
          19,
          20,
          21,
          22,
          23,
          24,
          25,
          26,
          27,
          28,
          29,
          30,
          31,
          32,
          33,
          34,
          35,
          36,
          37,
          38,
          39,
          40,
          41,
          42,
          43,
          44,
          45,
          46,
          47,
          48,
          49
         ],
         "y": [
          null,
          null,
          -0.19106999380242393,
          -0.19106999380242393,
          -0.19106999380242393,
          -0.19106999380242393,
          -0.19106999380242393,
          -0.19106999380242393,
          -0.19106999380242393,
          -0.714955374063303,
          -0.714955374063303,
          -0.714955374063303,
          -0.714955374063303,
          -0.714955374063303,
          -0.714955374063303,
          -0.714955374063303,
          -0.714955374063303,
          -0.7229887762597594,
          -0.7229887762597594,
          -0.7229887762597594,
          -0.7229887762597594,
          -0.7229887762597594,
          -0.7229887762597594,
          -0.7229887762597594,
          -0.7229887762597594,
          -0.7229887762597594,
          -0.7229887762597594,
          -0.7229887762597594,
          -0.7242252575239364,
          -0.724746930181322,
          -0.724746930181322,
          -0.724746930181322,
          -0.724746930181322,
          -0.724746930181322,
          -0.724746930181322,
          -0.724746930181322,
          -0.724746930181322,
          -0.724746930181322,
          -0.724746930181322,
          -0.724746930181322,
          -0.724746930181322,
          -0.724746930181322,
          -0.724746930181322,
          -0.724746930181322,
          -0.724746930181322,
          -0.724746930181322,
          -0.724746930181322,
          -0.724746930181322,
          -0.724746930181322,
          -0.724746930181322
         ]
        }
       ],
       "layout": {
        "template": {
         "data": {
          "bar": [
           {
            "error_x": {
             "color": "#2a3f5f"
            },
            "error_y": {
             "color": "#2a3f5f"
            },
            "marker": {
             "line": {
              "color": "#E5ECF6",
              "width": 0.5
             },
             "pattern": {
              "fillmode": "overlay",
              "size": 10,
              "solidity": 0.2
             }
            },
            "type": "bar"
           }
          ],
          "barpolar": [
           {
            "marker": {
             "line": {
              "color": "#E5ECF6",
              "width": 0.5
             },
             "pattern": {
              "fillmode": "overlay",
              "size": 10,
              "solidity": 0.2
             }
            },
            "type": "barpolar"
           }
          ],
          "carpet": [
           {
            "aaxis": {
             "endlinecolor": "#2a3f5f",
             "gridcolor": "white",
             "linecolor": "white",
             "minorgridcolor": "white",
             "startlinecolor": "#2a3f5f"
            },
            "baxis": {
             "endlinecolor": "#2a3f5f",
             "gridcolor": "white",
             "linecolor": "white",
             "minorgridcolor": "white",
             "startlinecolor": "#2a3f5f"
            },
            "type": "carpet"
           }
          ],
          "choropleth": [
           {
            "colorbar": {
             "outlinewidth": 0,
             "ticks": ""
            },
            "type": "choropleth"
           }
          ],
          "contour": [
           {
            "colorbar": {
             "outlinewidth": 0,
             "ticks": ""
            },
            "colorscale": [
             [
              0,
              "#0d0887"
             ],
             [
              0.1111111111111111,
              "#46039f"
             ],
             [
              0.2222222222222222,
              "#7201a8"
             ],
             [
              0.3333333333333333,
              "#9c179e"
             ],
             [
              0.4444444444444444,
              "#bd3786"
             ],
             [
              0.5555555555555556,
              "#d8576b"
             ],
             [
              0.6666666666666666,
              "#ed7953"
             ],
             [
              0.7777777777777778,
              "#fb9f3a"
             ],
             [
              0.8888888888888888,
              "#fdca26"
             ],
             [
              1,
              "#f0f921"
             ]
            ],
            "type": "contour"
           }
          ],
          "contourcarpet": [
           {
            "colorbar": {
             "outlinewidth": 0,
             "ticks": ""
            },
            "type": "contourcarpet"
           }
          ],
          "heatmap": [
           {
            "colorbar": {
             "outlinewidth": 0,
             "ticks": ""
            },
            "colorscale": [
             [
              0,
              "#0d0887"
             ],
             [
              0.1111111111111111,
              "#46039f"
             ],
             [
              0.2222222222222222,
              "#7201a8"
             ],
             [
              0.3333333333333333,
              "#9c179e"
             ],
             [
              0.4444444444444444,
              "#bd3786"
             ],
             [
              0.5555555555555556,
              "#d8576b"
             ],
             [
              0.6666666666666666,
              "#ed7953"
             ],
             [
              0.7777777777777778,
              "#fb9f3a"
             ],
             [
              0.8888888888888888,
              "#fdca26"
             ],
             [
              1,
              "#f0f921"
             ]
            ],
            "type": "heatmap"
           }
          ],
          "heatmapgl": [
           {
            "colorbar": {
             "outlinewidth": 0,
             "ticks": ""
            },
            "colorscale": [
             [
              0,
              "#0d0887"
             ],
             [
              0.1111111111111111,
              "#46039f"
             ],
             [
              0.2222222222222222,
              "#7201a8"
             ],
             [
              0.3333333333333333,
              "#9c179e"
             ],
             [
              0.4444444444444444,
              "#bd3786"
             ],
             [
              0.5555555555555556,
              "#d8576b"
             ],
             [
              0.6666666666666666,
              "#ed7953"
             ],
             [
              0.7777777777777778,
              "#fb9f3a"
             ],
             [
              0.8888888888888888,
              "#fdca26"
             ],
             [
              1,
              "#f0f921"
             ]
            ],
            "type": "heatmapgl"
           }
          ],
          "histogram": [
           {
            "marker": {
             "pattern": {
              "fillmode": "overlay",
              "size": 10,
              "solidity": 0.2
             }
            },
            "type": "histogram"
           }
          ],
          "histogram2d": [
           {
            "colorbar": {
             "outlinewidth": 0,
             "ticks": ""
            },
            "colorscale": [
             [
              0,
              "#0d0887"
             ],
             [
              0.1111111111111111,
              "#46039f"
             ],
             [
              0.2222222222222222,
              "#7201a8"
             ],
             [
              0.3333333333333333,
              "#9c179e"
             ],
             [
              0.4444444444444444,
              "#bd3786"
             ],
             [
              0.5555555555555556,
              "#d8576b"
             ],
             [
              0.6666666666666666,
              "#ed7953"
             ],
             [
              0.7777777777777778,
              "#fb9f3a"
             ],
             [
              0.8888888888888888,
              "#fdca26"
             ],
             [
              1,
              "#f0f921"
             ]
            ],
            "type": "histogram2d"
           }
          ],
          "histogram2dcontour": [
           {
            "colorbar": {
             "outlinewidth": 0,
             "ticks": ""
            },
            "colorscale": [
             [
              0,
              "#0d0887"
             ],
             [
              0.1111111111111111,
              "#46039f"
             ],
             [
              0.2222222222222222,
              "#7201a8"
             ],
             [
              0.3333333333333333,
              "#9c179e"
             ],
             [
              0.4444444444444444,
              "#bd3786"
             ],
             [
              0.5555555555555556,
              "#d8576b"
             ],
             [
              0.6666666666666666,
              "#ed7953"
             ],
             [
              0.7777777777777778,
              "#fb9f3a"
             ],
             [
              0.8888888888888888,
              "#fdca26"
             ],
             [
              1,
              "#f0f921"
             ]
            ],
            "type": "histogram2dcontour"
           }
          ],
          "mesh3d": [
           {
            "colorbar": {
             "outlinewidth": 0,
             "ticks": ""
            },
            "type": "mesh3d"
           }
          ],
          "parcoords": [
           {
            "line": {
             "colorbar": {
              "outlinewidth": 0,
              "ticks": ""
             }
            },
            "type": "parcoords"
           }
          ],
          "pie": [
           {
            "automargin": true,
            "type": "pie"
           }
          ],
          "scatter": [
           {
            "fillpattern": {
             "fillmode": "overlay",
             "size": 10,
             "solidity": 0.2
            },
            "type": "scatter"
           }
          ],
          "scatter3d": [
           {
            "line": {
             "colorbar": {
              "outlinewidth": 0,
              "ticks": ""
             }
            },
            "marker": {
             "colorbar": {
              "outlinewidth": 0,
              "ticks": ""
             }
            },
            "type": "scatter3d"
           }
          ],
          "scattercarpet": [
           {
            "marker": {
             "colorbar": {
              "outlinewidth": 0,
              "ticks": ""
             }
            },
            "type": "scattercarpet"
           }
          ],
          "scattergeo": [
           {
            "marker": {
             "colorbar": {
              "outlinewidth": 0,
              "ticks": ""
             }
            },
            "type": "scattergeo"
           }
          ],
          "scattergl": [
           {
            "marker": {
             "colorbar": {
              "outlinewidth": 0,
              "ticks": ""
             }
            },
            "type": "scattergl"
           }
          ],
          "scattermapbox": [
           {
            "marker": {
             "colorbar": {
              "outlinewidth": 0,
              "ticks": ""
             }
            },
            "type": "scattermapbox"
           }
          ],
          "scatterpolar": [
           {
            "marker": {
             "colorbar": {
              "outlinewidth": 0,
              "ticks": ""
             }
            },
            "type": "scatterpolar"
           }
          ],
          "scatterpolargl": [
           {
            "marker": {
             "colorbar": {
              "outlinewidth": 0,
              "ticks": ""
             }
            },
            "type": "scatterpolargl"
           }
          ],
          "scatterternary": [
           {
            "marker": {
             "colorbar": {
              "outlinewidth": 0,
              "ticks": ""
             }
            },
            "type": "scatterternary"
           }
          ],
          "surface": [
           {
            "colorbar": {
             "outlinewidth": 0,
             "ticks": ""
            },
            "colorscale": [
             [
              0,
              "#0d0887"
             ],
             [
              0.1111111111111111,
              "#46039f"
             ],
             [
              0.2222222222222222,
              "#7201a8"
             ],
             [
              0.3333333333333333,
              "#9c179e"
             ],
             [
              0.4444444444444444,
              "#bd3786"
             ],
             [
              0.5555555555555556,
              "#d8576b"
             ],
             [
              0.6666666666666666,
              "#ed7953"
             ],
             [
              0.7777777777777778,
              "#fb9f3a"
             ],
             [
              0.8888888888888888,
              "#fdca26"
             ],
             [
              1,
              "#f0f921"
             ]
            ],
            "type": "surface"
           }
          ],
          "table": [
           {
            "cells": {
             "fill": {
              "color": "#EBF0F8"
             },
             "line": {
              "color": "white"
             }
            },
            "header": {
             "fill": {
              "color": "#C8D4E3"
             },
             "line": {
              "color": "white"
             }
            },
            "type": "table"
           }
          ]
         },
         "layout": {
          "annotationdefaults": {
           "arrowcolor": "#2a3f5f",
           "arrowhead": 0,
           "arrowwidth": 1
          },
          "autotypenumbers": "strict",
          "coloraxis": {
           "colorbar": {
            "outlinewidth": 0,
            "ticks": ""
           }
          },
          "colorscale": {
           "diverging": [
            [
             0,
             "#8e0152"
            ],
            [
             0.1,
             "#c51b7d"
            ],
            [
             0.2,
             "#de77ae"
            ],
            [
             0.3,
             "#f1b6da"
            ],
            [
             0.4,
             "#fde0ef"
            ],
            [
             0.5,
             "#f7f7f7"
            ],
            [
             0.6,
             "#e6f5d0"
            ],
            [
             0.7,
             "#b8e186"
            ],
            [
             0.8,
             "#7fbc41"
            ],
            [
             0.9,
             "#4d9221"
            ],
            [
             1,
             "#276419"
            ]
           ],
           "sequential": [
            [
             0,
             "#0d0887"
            ],
            [
             0.1111111111111111,
             "#46039f"
            ],
            [
             0.2222222222222222,
             "#7201a8"
            ],
            [
             0.3333333333333333,
             "#9c179e"
            ],
            [
             0.4444444444444444,
             "#bd3786"
            ],
            [
             0.5555555555555556,
             "#d8576b"
            ],
            [
             0.6666666666666666,
             "#ed7953"
            ],
            [
             0.7777777777777778,
             "#fb9f3a"
            ],
            [
             0.8888888888888888,
             "#fdca26"
            ],
            [
             1,
             "#f0f921"
            ]
           ],
           "sequentialminus": [
            [
             0,
             "#0d0887"
            ],
            [
             0.1111111111111111,
             "#46039f"
            ],
            [
             0.2222222222222222,
             "#7201a8"
            ],
            [
             0.3333333333333333,
             "#9c179e"
            ],
            [
             0.4444444444444444,
             "#bd3786"
            ],
            [
             0.5555555555555556,
             "#d8576b"
            ],
            [
             0.6666666666666666,
             "#ed7953"
            ],
            [
             0.7777777777777778,
             "#fb9f3a"
            ],
            [
             0.8888888888888888,
             "#fdca26"
            ],
            [
             1,
             "#f0f921"
            ]
           ]
          },
          "colorway": [
           "#636efa",
           "#EF553B",
           "#00cc96",
           "#ab63fa",
           "#FFA15A",
           "#19d3f3",
           "#FF6692",
           "#B6E880",
           "#FF97FF",
           "#FECB52"
          ],
          "font": {
           "color": "#2a3f5f"
          },
          "geo": {
           "bgcolor": "white",
           "lakecolor": "white",
           "landcolor": "#E5ECF6",
           "showlakes": true,
           "showland": true,
           "subunitcolor": "white"
          },
          "hoverlabel": {
           "align": "left"
          },
          "hovermode": "closest",
          "mapbox": {
           "style": "light"
          },
          "paper_bgcolor": "white",
          "plot_bgcolor": "#E5ECF6",
          "polar": {
           "angularaxis": {
            "gridcolor": "white",
            "linecolor": "white",
            "ticks": ""
           },
           "bgcolor": "#E5ECF6",
           "radialaxis": {
            "gridcolor": "white",
            "linecolor": "white",
            "ticks": ""
           }
          },
          "scene": {
           "xaxis": {
            "backgroundcolor": "#E5ECF6",
            "gridcolor": "white",
            "gridwidth": 2,
            "linecolor": "white",
            "showbackground": true,
            "ticks": "",
            "zerolinecolor": "white"
           },
           "yaxis": {
            "backgroundcolor": "#E5ECF6",
            "gridcolor": "white",
            "gridwidth": 2,
            "linecolor": "white",
            "showbackground": true,
            "ticks": "",
            "zerolinecolor": "white"
           },
           "zaxis": {
            "backgroundcolor": "#E5ECF6",
            "gridcolor": "white",
            "gridwidth": 2,
            "linecolor": "white",
            "showbackground": true,
            "ticks": "",
            "zerolinecolor": "white"
           }
          },
          "shapedefaults": {
           "line": {
            "color": "#2a3f5f"
           }
          },
          "ternary": {
           "aaxis": {
            "gridcolor": "white",
            "linecolor": "white",
            "ticks": ""
           },
           "baxis": {
            "gridcolor": "white",
            "linecolor": "white",
            "ticks": ""
           },
           "bgcolor": "#E5ECF6",
           "caxis": {
            "gridcolor": "white",
            "linecolor": "white",
            "ticks": ""
           }
          },
          "title": {
           "x": 0.05
          },
          "xaxis": {
           "automargin": true,
           "gridcolor": "white",
           "linecolor": "white",
           "ticks": "",
           "title": {
            "standoff": 15
           },
           "zerolinecolor": "white",
           "zerolinewidth": 2
          },
          "yaxis": {
           "automargin": true,
           "gridcolor": "white",
           "linecolor": "white",
           "ticks": "",
           "title": {
            "standoff": 15
           },
           "zerolinecolor": "white",
           "zerolinewidth": 2
          }
         }
        },
        "title": {
         "text": "Optimization History Plot"
        },
        "xaxis": {
         "title": {
          "text": "Trial"
         }
        },
        "yaxis": {
         "title": {
          "text": "Objective Value"
         }
        }
       }
      }
     },
     "metadata": {},
     "output_type": "display_data"
    }
   ],
   "source": [
    "# Plot the optimization history\n",
    "optuna.visualization.plot_optimization_history(study)"
   ]
  },
  {
   "attachments": {},
   "cell_type": "markdown",
   "metadata": {},
   "source": [
    "## Tuned Portfolio Strategy"
   ]
  },
  {
   "cell_type": "code",
   "execution_count": 40,
   "metadata": {},
   "outputs": [
    {
     "data": {
      "text/plain": [
       "{'expected_return_model': 'exp_weighted',\n",
       " 'risk_model': 'shrinkage',\n",
       " 'reg_gamma': 3,\n",
       " 'returns_span': 700,\n",
       " 'shrinkage_target': 'constant_variance'}"
      ]
     },
     "execution_count": 40,
     "metadata": {},
     "output_type": "execute_result"
    }
   ],
   "source": [
    "study.best_params"
   ]
  },
  {
   "cell_type": "code",
   "execution_count": 26,
   "metadata": {},
   "outputs": [],
   "source": [
    "# Returns and risk models\n",
    "returns_models = {}\n",
    "risk_models = {}\n",
    "for sample, data in zip(['train', 'val', 'test'], [in_sample_data_train, in_sample_data_val, out_sample_data]):\n",
    "    \n",
    "    returns_models[sample] = ema_historical_return(\n",
    "        prices=data,\n",
    "        span=study.best_params['returns_span'],\n",
    "        returns_data=False,\n",
    "        frequency=horizon,\n",
    "        compounding=True\n",
    "    )\n",
    "    \n",
    "    risk_models[sample] = fix_nonpositive_semidefinite(\n",
    "        CovarianceShrinkage(\n",
    "            prices=data,\n",
    "            returns_data=False,\n",
    "            frequency=horizon\n",
    "        ).ledoit_wolf(study.best_params['shrinkage_target'])\n",
    "    )"
   ]
  },
  {
   "cell_type": "code",
   "execution_count": 27,
   "metadata": {},
   "outputs": [],
   "source": [
    "# Create the optimization model\n",
    "markowitz_model = EfficientFrontier(\n",
    "    expected_returns=returns_models['train'].to_numpy().flatten(),\n",
    "    cov_matrix=risk_models['train'],\n",
    "    weight_bounds=(0, 1), # Assume fully invested portfolio\n",
    "    solver=None # Use cvxpy’s default choice of solver\n",
    ")\n",
    "\n",
    "# Add sector constraints (the sector_mappings dictionary is scoped from the enclosing environment)\n",
    "markowitz_model.add_sector_constraints(\n",
    "    sector_mapper=sector_mappings, \n",
    "    sector_lower={'Technology': 0.1}, # At least 10% of the portfolio should be invested in the Technology sector\n",
    "    sector_upper={'Technology': 0.3} # At most 20% of the portfolio should be invested in the Technology sector\n",
    ")\n",
    "\n",
    "# Add the regularization term (tuning gamma i.e., the higher the value of gamma, the more non-negligible weights)\n",
    "markowitz_model.add_objective(objective_functions.L2_reg, gamma=study.best_params['reg_gamma'])"
   ]
  },
  {
   "attachments": {},
   "cell_type": "markdown",
   "metadata": {},
   "source": [
    "Plot the efficient frontier:"
   ]
  },
  {
   "cell_type": "code",
   "execution_count": 28,
   "metadata": {},
   "outputs": [
    {
     "data": {
      "image/png": "[encoded data removed]",
      "text/plain": [
       "<Figure size 1200x1000 with 1 Axes>"
      ]
     },
     "metadata": {},
     "output_type": "display_data"
    }
   ],
   "source": [
    "ut.custom_efficient_frontier(markowitz_model, risk_free_rate=rate_16m);"
   ]
  },
  {
   "attachments": {},
   "cell_type": "markdown",
   "metadata": {},
   "source": [
    "Optimize for sharpe ratio and obtain the optimal weights:"
   ]
  },
  {
   "cell_type": "code",
   "execution_count": 29,
   "metadata": {},
   "outputs": [
    {
     "data": {
      "text/plain": [
       "OrderedDict([('AAPL', 0.0),\n",
       "             ('AEP', 0.0),\n",
       "             ('AMZN', 0.208349873689749),\n",
       "             ('BIIB', 0.0),\n",
       "             ('CMCSA', 0.0),\n",
       "             ('CME', 0.0),\n",
       "             ('COST', 0.0),\n",
       "             ('CSCO', 0.0),\n",
       "             ('EA', 0.0),\n",
       "             ('EBAY', 0.0),\n",
       "             ('GOOG', 0.0),\n",
       "             ('HD', 0.0084462362493245),\n",
       "             ('HON', 0.0),\n",
       "             ('INTC', 0.0),\n",
       "             ('JPM', 0.0092351005253669),\n",
       "             ('LULU', 0.0),\n",
       "             ('META', 0.0),\n",
       "             ('MSFT', 0.0),\n",
       "             ('NFLX', 0.3059263103831143),\n",
       "             ('NVDA', 0.3),\n",
       "             ('ORLY', 0.0),\n",
       "             ('PEP', 0.0),\n",
       "             ('PFE', 0.0),\n",
       "             ('QCOM', 0.0),\n",
       "             ('SBUX', 0.0),\n",
       "             ('TSLA', 0.1355490167141585),\n",
       "             ('TXN', 0.0),\n",
       "             ('VRTX', 0.0324934624382869),\n",
       "             ('WDAY', 0.0),\n",
       "             ('XEL', 0.0)])"
      ]
     },
     "execution_count": 29,
     "metadata": {},
     "output_type": "execute_result"
    }
   ],
   "source": [
    "optimal_weights = markowitz_model.max_sharpe(risk_free_rate=rate_16m)\n",
    "optimal_weights_array = np.array(list(optimal_weights.values()))\n",
    "optimal_weights"
   ]
  },
  {
   "cell_type": "code",
   "execution_count": 105,
   "metadata": {},
   "outputs": [],
   "source": [
    "# Write the weights to a csv file\n",
    "pd.DataFrame().from_dict(optimal_weights, orient='index', columns=['weight']).to_csv('../data/optimal_weights.csv')"
   ]
  },
  {
   "cell_type": "code",
   "execution_count": 93,
   "metadata": {},
   "outputs": [
    {
     "name": "stdout",
     "output_type": "stream",
     "text": [
      "Expected annual return: 106.6%\n",
      "Annual volatility: 29.2%\n",
      "Sharpe Ratio: 1.31\n"
     ]
    }
   ],
   "source": [
    "# In sample performance\n",
    "train_performance = markowitz_model.portfolio_performance(risk_free_rate=rate_16m, verbose=True)"
   ]
  },
  {
   "cell_type": "code",
   "execution_count": 94,
   "metadata": {},
   "outputs": [
    {
     "name": "stdout",
     "output_type": "stream",
     "text": [
      "Expected annual return: 126.0%\n",
      "Annual volatility: 30.0%\n",
      "Sharpe Ratio: 1.93\n"
     ]
    }
   ],
   "source": [
    "val_performance = base_optimizer.portfolio_performance(\n",
    "    weights=optimal_weights,\n",
    "    expected_returns=returns_models['val'].to_numpy().flatten(),\n",
    "    cov_matrix=risk_models['val'],\n",
    "    risk_free_rate=rate_16m,\n",
    "    verbose=True\n",
    ")"
   ]
  },
  {
   "cell_type": "code",
   "execution_count": 30,
   "metadata": {},
   "outputs": [
    {
     "name": "stdout",
     "output_type": "stream",
     "text": [
      "Expected annual return: 28.7%\n",
      "Annual volatility: 37.2%\n",
      "Sharpe Ratio: -1.06\n"
     ]
    }
   ],
   "source": [
    "test_performance = base_optimizer.portfolio_performance(\n",
    "    weights=optimal_weights,\n",
    "    expected_returns=returns_models['test'].to_numpy().flatten(),\n",
    "    cov_matrix=risk_models['test'],\n",
    "    risk_free_rate=rate_16m,\n",
    "    verbose=True\n",
    ")"
   ]
  },
  {
   "attachments": {},
   "cell_type": "markdown",
   "metadata": {},
   "source": [
    "### Benchmark Performance"
   ]
  },
  {
   "cell_type": "code",
   "execution_count": 85,
   "metadata": {},
   "outputs": [
    {
     "data": {
      "text/plain": [
       "('2013-08-30', '2017-04-28')"
      ]
     },
     "execution_count": 85,
     "metadata": {},
     "output_type": "execute_result"
    },
    {
     "data": {
      "text/plain": [
       "('2017-05-01', '2018-08-30')"
      ]
     },
     "execution_count": 85,
     "metadata": {},
     "output_type": "execute_result"
    },
    {
     "data": {
      "text/plain": [
       "('2018-08-31', '2019-12-30')"
      ]
     },
     "execution_count": 85,
     "metadata": {},
     "output_type": "execute_result"
    }
   ],
   "source": [
    "# Train, validation, and test sets\n",
    "nasdaq_train = nasdaq.loc[:split_date.strftime('%Y-%m-%d')]\n",
    "nasdaq_val = nasdaq.loc[split_date.strftime('%Y-%m-%d'):in_sample_data.index.max().strftime('%Y-%m-%d')]\n",
    "nasdaq_test = nasdaq.loc[out_sample_data.index.min().strftime('%Y-%m-%d'):]\n",
    "\n",
    "(nasdaq_train.index.min(), nasdaq_train.index.max())\n",
    "(nasdaq_val.index.min(), nasdaq_val.index.max())\n",
    "(nasdaq_test.index.min(), nasdaq_test.index.max())"
   ]
  },
  {
   "cell_type": "code",
   "execution_count": 96,
   "metadata": {},
   "outputs": [],
   "source": [
    "nasdaq_returns = {}\n",
    "nasdaq_risk = {}\n",
    "sharpe_ratios = {}\n",
    "\n",
    "for sample, data in zip(['train', 'val', 'test'], [nasdaq_train, nasdaq_val, nasdaq_test]):\n",
    "    nasdaq_returns[sample] = ema_historical_return(\n",
    "        prices=data,\n",
    "        span=study.best_params['returns_span'],\n",
    "        returns_data=False,\n",
    "        frequency=horizon,\n",
    "        compounding=False\n",
    "    )\n",
    "    \n",
    "    nasdaq_risk[sample] = fix_nonpositive_semidefinite(\n",
    "        CovarianceShrinkage(\n",
    "            prices=data,\n",
    "            returns_data=False,\n",
    "            frequency=horizon\n",
    "        ).ledoit_wolf(study.best_params['shrinkage_target'])\n",
    "    )['Adj Close']\n",
    "    \n",
    "    sharpe_ratios[sample] = (nasdaq_returns[sample] - rate_16m) / nasdaq_risk[sample]"
   ]
  },
  {
   "cell_type": "code",
   "execution_count": 100,
   "metadata": {},
   "outputs": [
    {
     "name": "stdout",
     "output_type": "stream",
     "text": [
      "Nasdaq train returns: 24.335\n",
      "Nasdaq val returns: 33.9146\n",
      "Nasdaq test returns: 23.5689\n"
     ]
    }
   ],
   "source": [
    "for sample in ['train', 'val', 'test']:\n",
    "    print(f'Nasdaq {sample} returns: {round(nasdaq_returns[sample].values[0] * 100, 4)}')"
   ]
  },
  {
   "cell_type": "code",
   "execution_count": 102,
   "metadata": {},
   "outputs": [
    {
     "name": "stdout",
     "output_type": "stream",
     "text": [
      "Nasdaq train volatility: 3.039\n",
      "Nasdaq val volatility: 3.2249\n",
      "Nasdaq test volatility: 5.4961\n"
     ]
    }
   ],
   "source": [
    "for sample in ['train', 'val', 'test']:\n",
    "    print(f'Nasdaq {sample} volatility: {round(nasdaq_risk[sample].values[0] *  100, 4)}')"
   ]
  },
  {
   "attachments": {},
   "cell_type": "markdown",
   "metadata": {},
   "source": [
    "## Confidence Interval"
   ]
  },
  {
   "cell_type": "code",
   "execution_count": 75,
   "metadata": {},
   "outputs": [
    {
     "name": "stdout",
     "output_type": "stream",
     "text": [
      "Expected ending value: 80509.57\n",
      "Confidence interval (95.00%): [34898.74, 126120.40]\n"
     ]
    },
    {
     "data": {
      "image/png": "[encoded data removed]",
      "text/plain": [
       "<Figure size 1200x800 with 1 Axes>"
      ]
     },
     "metadata": {},
     "output_type": "display_data"
    }
   ],
   "source": [
    "import numpy as np\n",
    "import matplotlib.pyplot as plt\n",
    "\n",
    "# Define parameters\n",
    "mean_return = 0.287\n",
    "std_return = 0.372\n",
    "investment = 62556\n",
    "time_horizon = 1\n",
    "confidence_level = 0.95\n",
    "\n",
    "# Calculate expected ending value\n",
    "expected_ending_value = investment * (1 + mean_return) ** time_horizon\n",
    "\n",
    "# Calculate standard deviation\n",
    "std_dev = investment * std_return\n",
    "\n",
    "# Calculate z-score for given confidence level\n",
    "z_score = np.abs(np.round(norm.ppf((1 - confidence_level) / 2), 2))\n",
    "\n",
    "# Calculate confidence interval\n",
    "lower_bound = expected_ending_value - z_score * std_dev\n",
    "upper_bound = expected_ending_value + z_score * std_dev\n",
    "\n",
    "# Print results\n",
    "print(f\"Expected ending value: {expected_ending_value:.2f}\")\n",
    "print(f\"Confidence interval ({confidence_level:.2%}): [{lower_bound:.2f}, {upper_bound:.2f}]\")\n",
    "\n",
    "# Plot histogram of possible ending values\n",
    "ending_values = np.random.normal(expected_ending_value, std_dev, 10000)\n",
    "plt.hist(ending_values, bins=50, density=True, alpha=0.5)\n",
    "\n",
    "# Shade area below lower bound\n",
    "x = np.linspace(lower_bound, expected_ending_value, 100)\n",
    "plt.fill_between(x, norm.pdf(x, expected_ending_value, std_dev), color='orange', alpha=0.5)\n",
    "\n",
    "# Shade area above upper bound\n",
    "x = np.linspace(expected_ending_value, upper_bound, 100)\n",
    "plt.fill_between(x, norm.pdf(x, expected_ending_value, std_dev), color='orange', alpha=0.5)\n",
    "\n",
    "# Add vertical lines and text annotations for expected ending value, lower bound, and upper bound\n",
    "plt.axvline(expected_ending_value, color='black', linestyle='--')\n",
    "plt.text(expected_ending_value + 20000, 1.75 * 1e-5, f\"${expected_ending_value:,.2f}\", ha='center')\n",
    "plt.axvline(lower_bound, color='red', linestyle='--')\n",
    "plt.text(lower_bound - 10000, 1.70 * 1e-5, f\"${lower_bound:,.2f}\", ha='right', va='bottom')\n",
    "plt.axvline(upper_bound, color='red', linestyle='--')\n",
    "plt.text(upper_bound + 10000, 1.70 * 1e-5, f\"${upper_bound:,.2f}\", ha='left', va='bottom')\n",
    "\n",
    "# Set axis labels and title\n",
    "plt.xlabel(\"Ending Value\")\n",
    "plt.ylabel(\"Density\")\n",
    "plt.title(\"Distribution of Possible Ending Values\")\n",
    "\n",
    "# Show plot\n",
    "plt.savefig('../plots/ending_value_distribution.png')\n",
    "plt.show();"
   ]
  },
  {
   "attachments": {},
   "cell_type": "markdown",
   "metadata": {},
   "source": [
    "## Post Processing"
   ]
  },
  {
   "cell_type": "code",
   "execution_count": 32,
   "metadata": {},
   "outputs": [],
   "source": [
    "# Instantiate a instance of DiscreteAllocation\n",
    "da = DiscreteAllocation(\n",
    "    weights=optimal_weights,\n",
    "    latest_prices=open_prices,\n",
    "    total_portfolio_value=62556\n",
    ")"
   ]
  },
  {
   "cell_type": "code",
   "execution_count": 33,
   "metadata": {},
   "outputs": [
    {
     "data": {
      "text/plain": [
       "({'AMZN': 111,\n",
       "  'HD': 2,\n",
       "  'JPM': 5,\n",
       "  'NFLX': 84,\n",
       "  'NVDA': 150,\n",
       "  'TSLA': 30,\n",
       "  'VRTX': 7},\n",
       " 29.200137772502785)"
      ]
     },
     "execution_count": 33,
     "metadata": {},
     "output_type": "execute_result"
    }
   ],
   "source": [
    "# Solve integer programming problem\n",
    "allocations = da.lp_portfolio(reinvest=False)\n",
    "allocations"
   ]
  },
  {
   "cell_type": "code",
   "execution_count": 37,
   "metadata": {},
   "outputs": [
    {
     "data": {
      "text/plain": [
       "{'AMZN': 20.8,\n",
       " 'HD': 0.8,\n",
       " 'JPM': 0.9,\n",
       " 'NFLX': 30.6,\n",
       " 'NVDA': 30.0,\n",
       " 'TSLA': 13.6,\n",
       " 'VRTX': 3.2}"
      ]
     },
     "execution_count": 37,
     "metadata": {},
     "output_type": "execute_result"
    }
   ],
   "source": [
    "# Non-zero weights\n",
    "non_zero_weights = {k: round(v * 100, 1) for k, v in optimal_weights.items() if v > 0}\n",
    "non_zero_weights"
   ]
  },
  {
   "cell_type": "code",
   "execution_count": 34,
   "metadata": {},
   "outputs": [
    {
     "name": "stdout",
     "output_type": "stream",
     "text": [
      "AAPL: allocated 0.000, desired 0.000\n",
      "AEP: allocated 0.000, desired 0.000\n",
      "AMZN: allocated 0.208, desired 0.208\n",
      "BIIB: allocated 0.000, desired 0.000\n",
      "CMCSA: allocated 0.000, desired 0.000\n",
      "CME: allocated 0.000, desired 0.000\n",
      "COST: allocated 0.000, desired 0.000\n",
      "CSCO: allocated 0.000, desired 0.000\n",
      "EA: allocated 0.000, desired 0.000\n",
      "EBAY: allocated 0.000, desired 0.000\n",
      "GOOG: allocated 0.000, desired 0.000\n",
      "HD: allocated 0.009, desired 0.008\n",
      "HON: allocated 0.000, desired 0.000\n",
      "INTC: allocated 0.000, desired 0.000\n",
      "JPM: allocated 0.009, desired 0.009\n",
      "LULU: allocated 0.000, desired 0.000\n",
      "META: allocated 0.000, desired 0.000\n",
      "MSFT: allocated 0.000, desired 0.000\n",
      "NFLX: allocated 0.307, desired 0.306\n",
      "NVDA: allocated 0.300, desired 0.300\n",
      "ORLY: allocated 0.000, desired 0.000\n",
      "PEP: allocated 0.000, desired 0.000\n",
      "PFE: allocated 0.000, desired 0.000\n",
      "QCOM: allocated 0.000, desired 0.000\n",
      "SBUX: allocated 0.000, desired 0.000\n",
      "TSLA: allocated 0.136, desired 0.136\n",
      "TXN: allocated 0.000, desired 0.000\n",
      "VRTX: allocated 0.031, desired 0.032\n",
      "WDAY: allocated 0.000, desired 0.000\n",
      "XEL: allocated 0.000, desired 0.000\n",
      "Allocation has RMSE: 0.000\n"
     ]
    },
    {
     "data": {
      "text/plain": [
       "0.0003524300066332074"
      ]
     },
     "execution_count": 34,
     "metadata": {},
     "output_type": "execute_result"
    }
   ],
   "source": [
    "da._allocation_rmse_error()"
   ]
  }
 ],
 "metadata": {
  "kernelspec": {
   "display_name": "optimization_project",
   "language": "python",
   "name": "python3"
  },
  "language_info": {
   "codemirror_mode": {
    "name": "ipython",
    "version": 3
   },
   "file_extension": ".py",
   "mimetype": "text/x-python",
   "name": "python",
   "nbconvert_exporter": "python",
   "pygments_lexer": "ipython3",
   "version": "3.9.12"
  },
  "orig_nbformat": 4
 },
 "nbformat": 4,
 "nbformat_minor": 2
}
